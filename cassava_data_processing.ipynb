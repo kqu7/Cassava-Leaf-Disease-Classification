{
  "nbformat": 4,
  "nbformat_minor": 0,
  "metadata": {
    "colab": {
      "name": "cassava-data-processing.ipynb",
      "provenance": [],
      "collapsed_sections": [],
      "machine_shape": "hm",
      "authorship_tag": "ABX9TyPEQjYGn0QyBZVd+Vo6sTYd",
      "include_colab_link": true
    },
    "kernelspec": {
      "name": "python3",
      "display_name": "Python 3"
    },
    "widgets": {
      "application/vnd.jupyter.widget-state+json": {
        "f4538236fe5f49b1bc39e170eddf6897": {
          "model_module": "@jupyter-widgets/controls",
          "model_name": "HBoxModel",
          "state": {
            "_view_name": "HBoxView",
            "_dom_classes": [],
            "_model_name": "HBoxModel",
            "_view_module": "@jupyter-widgets/controls",
            "_model_module_version": "1.5.0",
            "_view_count": null,
            "_view_module_version": "1.5.0",
            "box_style": "",
            "layout": "IPY_MODEL_35c9a97a46bb49cc9e1b78c571ac9d9a",
            "_model_module": "@jupyter-widgets/controls",
            "children": [
              "IPY_MODEL_6385aa7462964df0972a80f198543cfe",
              "IPY_MODEL_78c3dd8e2738466c914a8cb16ecc92b6"
            ]
          }
        },
        "35c9a97a46bb49cc9e1b78c571ac9d9a": {
          "model_module": "@jupyter-widgets/base",
          "model_name": "LayoutModel",
          "state": {
            "_view_name": "LayoutView",
            "grid_template_rows": null,
            "right": null,
            "justify_content": null,
            "_view_module": "@jupyter-widgets/base",
            "overflow": null,
            "_model_module_version": "1.2.0",
            "_view_count": null,
            "flex_flow": null,
            "width": null,
            "min_width": null,
            "border": null,
            "align_items": null,
            "bottom": null,
            "_model_module": "@jupyter-widgets/base",
            "top": null,
            "grid_column": null,
            "overflow_y": null,
            "overflow_x": null,
            "grid_auto_flow": null,
            "grid_area": null,
            "grid_template_columns": null,
            "flex": null,
            "_model_name": "LayoutModel",
            "justify_items": null,
            "grid_row": null,
            "max_height": null,
            "align_content": null,
            "visibility": null,
            "align_self": null,
            "height": null,
            "min_height": null,
            "padding": null,
            "grid_auto_rows": null,
            "grid_gap": null,
            "max_width": null,
            "order": null,
            "_view_module_version": "1.2.0",
            "grid_template_areas": null,
            "object_position": null,
            "object_fit": null,
            "grid_auto_columns": null,
            "margin": null,
            "display": null,
            "left": null
          }
        },
        "6385aa7462964df0972a80f198543cfe": {
          "model_module": "@jupyter-widgets/controls",
          "model_name": "FloatProgressModel",
          "state": {
            "_view_name": "ProgressView",
            "style": "IPY_MODEL_818eef95eb41485ca0977f50447ce7bb",
            "_dom_classes": [],
            "description": "",
            "_model_name": "FloatProgressModel",
            "bar_style": "success",
            "max": 1,
            "_view_module": "@jupyter-widgets/controls",
            "_model_module_version": "1.5.0",
            "value": 1,
            "_view_count": null,
            "_view_module_version": "1.5.0",
            "orientation": "horizontal",
            "min": 0,
            "description_tooltip": null,
            "_model_module": "@jupyter-widgets/controls",
            "layout": "IPY_MODEL_374d644681054512b2b9ba710a9cf3c4"
          }
        },
        "78c3dd8e2738466c914a8cb16ecc92b6": {
          "model_module": "@jupyter-widgets/controls",
          "model_name": "HTMLModel",
          "state": {
            "_view_name": "HTMLView",
            "style": "IPY_MODEL_1dd19de727b546f1bc2c38c67d22e90c",
            "_dom_classes": [],
            "description": "",
            "_model_name": "HTMLModel",
            "placeholder": "​",
            "_view_module": "@jupyter-widgets/controls",
            "_model_module_version": "1.5.0",
            "value": " 21397/? [10:07&lt;00:00, 35.24it/s]",
            "_view_count": null,
            "_view_module_version": "1.5.0",
            "description_tooltip": null,
            "_model_module": "@jupyter-widgets/controls",
            "layout": "IPY_MODEL_c7b74a42d2934187a3246833a804f004"
          }
        },
        "818eef95eb41485ca0977f50447ce7bb": {
          "model_module": "@jupyter-widgets/controls",
          "model_name": "ProgressStyleModel",
          "state": {
            "_view_name": "StyleView",
            "_model_name": "ProgressStyleModel",
            "description_width": "initial",
            "_view_module": "@jupyter-widgets/base",
            "_model_module_version": "1.5.0",
            "_view_count": null,
            "_view_module_version": "1.2.0",
            "bar_color": null,
            "_model_module": "@jupyter-widgets/controls"
          }
        },
        "374d644681054512b2b9ba710a9cf3c4": {
          "model_module": "@jupyter-widgets/base",
          "model_name": "LayoutModel",
          "state": {
            "_view_name": "LayoutView",
            "grid_template_rows": null,
            "right": null,
            "justify_content": null,
            "_view_module": "@jupyter-widgets/base",
            "overflow": null,
            "_model_module_version": "1.2.0",
            "_view_count": null,
            "flex_flow": null,
            "width": null,
            "min_width": null,
            "border": null,
            "align_items": null,
            "bottom": null,
            "_model_module": "@jupyter-widgets/base",
            "top": null,
            "grid_column": null,
            "overflow_y": null,
            "overflow_x": null,
            "grid_auto_flow": null,
            "grid_area": null,
            "grid_template_columns": null,
            "flex": null,
            "_model_name": "LayoutModel",
            "justify_items": null,
            "grid_row": null,
            "max_height": null,
            "align_content": null,
            "visibility": null,
            "align_self": null,
            "height": null,
            "min_height": null,
            "padding": null,
            "grid_auto_rows": null,
            "grid_gap": null,
            "max_width": null,
            "order": null,
            "_view_module_version": "1.2.0",
            "grid_template_areas": null,
            "object_position": null,
            "object_fit": null,
            "grid_auto_columns": null,
            "margin": null,
            "display": null,
            "left": null
          }
        },
        "1dd19de727b546f1bc2c38c67d22e90c": {
          "model_module": "@jupyter-widgets/controls",
          "model_name": "DescriptionStyleModel",
          "state": {
            "_view_name": "StyleView",
            "_model_name": "DescriptionStyleModel",
            "description_width": "",
            "_view_module": "@jupyter-widgets/base",
            "_model_module_version": "1.5.0",
            "_view_count": null,
            "_view_module_version": "1.2.0",
            "_model_module": "@jupyter-widgets/controls"
          }
        },
        "c7b74a42d2934187a3246833a804f004": {
          "model_module": "@jupyter-widgets/base",
          "model_name": "LayoutModel",
          "state": {
            "_view_name": "LayoutView",
            "grid_template_rows": null,
            "right": null,
            "justify_content": null,
            "_view_module": "@jupyter-widgets/base",
            "overflow": null,
            "_model_module_version": "1.2.0",
            "_view_count": null,
            "flex_flow": null,
            "width": null,
            "min_width": null,
            "border": null,
            "align_items": null,
            "bottom": null,
            "_model_module": "@jupyter-widgets/base",
            "top": null,
            "grid_column": null,
            "overflow_y": null,
            "overflow_x": null,
            "grid_auto_flow": null,
            "grid_area": null,
            "grid_template_columns": null,
            "flex": null,
            "_model_name": "LayoutModel",
            "justify_items": null,
            "grid_row": null,
            "max_height": null,
            "align_content": null,
            "visibility": null,
            "align_self": null,
            "height": null,
            "min_height": null,
            "padding": null,
            "grid_auto_rows": null,
            "grid_gap": null,
            "max_width": null,
            "order": null,
            "_view_module_version": "1.2.0",
            "grid_template_areas": null,
            "object_position": null,
            "object_fit": null,
            "grid_auto_columns": null,
            "margin": null,
            "display": null,
            "left": null
          }
        }
      }
    }
  },
  "cells": [
    {
      "cell_type": "markdown",
      "metadata": {
        "id": "view-in-github",
        "colab_type": "text"
      },
      "source": [
        "<a href=\"https://colab.research.google.com/github/kqu7/Cassava-Leaf-Disease-Classification/blob/main/cassava_data_processing.ipynb\" target=\"_parent\"><img src=\"https://colab.research.google.com/assets/colab-badge.svg\" alt=\"Open In Colab\"/></a>"
      ]
    },
    {
      "cell_type": "markdown",
      "metadata": {
        "id": "k76cCcVbz2qI"
      },
      "source": [
        "# Load Packages"
      ]
    },
    {
      "cell_type": "code",
      "metadata": {
        "id": "W97WB8Oqs67x",
        "colab": {
          "base_uri": "https://localhost:8080/"
        },
        "outputId": "d09e8bba-5163-4cd7-f30e-4acb9bf929b7"
      },
      "source": [
        "import os\n",
        "import shutil\n",
        "import random\n",
        "\n",
        "from zipfile import ZipFile \n",
        "from google.colab import drive\n",
        "\n",
        "import numpy as np\n",
        "import pandas as pd\n",
        "\n",
        "!pip install tqdm\n",
        "!pip install -U albumentations\n",
        "\n",
        "from tqdm.notebook import tqdm\n",
        "\n",
        "import cv2\n",
        "from albumentations import (\n",
        "    HorizontalFlip, VerticalFlip, IAAPerspective, ShiftScaleRotate, CLAHE, RandomRotate90,\n",
        "    Transpose, ShiftScaleRotate, Blur, OpticalDistortion, GridDistortion, HueSaturationValue,\n",
        "    IAAAdditiveGaussianNoise, GaussNoise, MotionBlur, MedianBlur, IAAPiecewiseAffine,\n",
        "    IAASharpen, IAAEmboss, RandomBrightnessContrast, Flip, OneOf, Compose, Normalize, Cutout, CoarseDropout, ShiftScaleRotate, CenterCrop, Resize\n",
        ")"
      ],
      "execution_count": null,
      "outputs": [
        {
          "output_type": "stream",
          "text": [
            "Requirement already satisfied: tqdm in /usr/local/lib/python3.7/dist-packages (4.41.1)\n",
            "Collecting albumentations\n",
            "\u001b[?25l  Downloading https://files.pythonhosted.org/packages/03/58/63fb1d742dc42d9ba2800ea741de1f2bc6bb05548d8724aa84794042eaf2/albumentations-0.5.2-py3-none-any.whl (72kB)\n",
            "\u001b[K     |████████████████████████████████| 81kB 3.5MB/s \n",
            "\u001b[?25hRequirement already satisfied, skipping upgrade: scikit-image>=0.16.1 in /usr/local/lib/python3.7/dist-packages (from albumentations) (0.16.2)\n",
            "Requirement already satisfied, skipping upgrade: scipy in /usr/local/lib/python3.7/dist-packages (from albumentations) (1.4.1)\n",
            "Requirement already satisfied, skipping upgrade: numpy>=1.11.1 in /usr/local/lib/python3.7/dist-packages (from albumentations) (1.19.5)\n",
            "Requirement already satisfied, skipping upgrade: PyYAML in /usr/local/lib/python3.7/dist-packages (from albumentations) (3.13)\n",
            "Collecting opencv-python-headless>=4.1.1\n",
            "\u001b[?25l  Downloading https://files.pythonhosted.org/packages/6d/6d/92f377bece9b0ec9c893081dbe073a65b38d7ac12ef572b8f70554d08760/opencv_python_headless-4.5.1.48-cp37-cp37m-manylinux2014_x86_64.whl (37.6MB)\n",
            "\u001b[K     |████████████████████████████████| 37.6MB 1.3MB/s \n",
            "\u001b[?25hCollecting imgaug>=0.4.0\n",
            "\u001b[?25l  Downloading https://files.pythonhosted.org/packages/66/b1/af3142c4a85cba6da9f4ebb5ff4e21e2616309552caca5e8acefe9840622/imgaug-0.4.0-py2.py3-none-any.whl (948kB)\n",
            "\u001b[K     |████████████████████████████████| 952kB 47.6MB/s \n",
            "\u001b[?25hRequirement already satisfied, skipping upgrade: imageio>=2.3.0 in /usr/local/lib/python3.7/dist-packages (from scikit-image>=0.16.1->albumentations) (2.4.1)\n",
            "Requirement already satisfied, skipping upgrade: networkx>=2.0 in /usr/local/lib/python3.7/dist-packages (from scikit-image>=0.16.1->albumentations) (2.5)\n",
            "Requirement already satisfied, skipping upgrade: PyWavelets>=0.4.0 in /usr/local/lib/python3.7/dist-packages (from scikit-image>=0.16.1->albumentations) (1.1.1)\n",
            "Requirement already satisfied, skipping upgrade: pillow>=4.3.0 in /usr/local/lib/python3.7/dist-packages (from scikit-image>=0.16.1->albumentations) (7.0.0)\n",
            "Requirement already satisfied, skipping upgrade: matplotlib!=3.0.0,>=2.0.0 in /usr/local/lib/python3.7/dist-packages (from scikit-image>=0.16.1->albumentations) (3.2.2)\n",
            "Requirement already satisfied, skipping upgrade: opencv-python in /usr/local/lib/python3.7/dist-packages (from imgaug>=0.4.0->albumentations) (4.1.2.30)\n",
            "Requirement already satisfied, skipping upgrade: Shapely in /usr/local/lib/python3.7/dist-packages (from imgaug>=0.4.0->albumentations) (1.7.1)\n",
            "Requirement already satisfied, skipping upgrade: six in /usr/local/lib/python3.7/dist-packages (from imgaug>=0.4.0->albumentations) (1.15.0)\n",
            "Requirement already satisfied, skipping upgrade: decorator>=4.3.0 in /usr/local/lib/python3.7/dist-packages (from networkx>=2.0->scikit-image>=0.16.1->albumentations) (4.4.2)\n",
            "Requirement already satisfied, skipping upgrade: cycler>=0.10 in /usr/local/lib/python3.7/dist-packages (from matplotlib!=3.0.0,>=2.0.0->scikit-image>=0.16.1->albumentations) (0.10.0)\n",
            "Requirement already satisfied, skipping upgrade: kiwisolver>=1.0.1 in /usr/local/lib/python3.7/dist-packages (from matplotlib!=3.0.0,>=2.0.0->scikit-image>=0.16.1->albumentations) (1.3.1)\n",
            "Requirement already satisfied, skipping upgrade: pyparsing!=2.0.4,!=2.1.2,!=2.1.6,>=2.0.1 in /usr/local/lib/python3.7/dist-packages (from matplotlib!=3.0.0,>=2.0.0->scikit-image>=0.16.1->albumentations) (2.4.7)\n",
            "Requirement already satisfied, skipping upgrade: python-dateutil>=2.1 in /usr/local/lib/python3.7/dist-packages (from matplotlib!=3.0.0,>=2.0.0->scikit-image>=0.16.1->albumentations) (2.8.1)\n",
            "Installing collected packages: opencv-python-headless, imgaug, albumentations\n",
            "  Found existing installation: imgaug 0.2.9\n",
            "    Uninstalling imgaug-0.2.9:\n",
            "      Successfully uninstalled imgaug-0.2.9\n",
            "  Found existing installation: albumentations 0.1.12\n",
            "    Uninstalling albumentations-0.1.12:\n",
            "      Successfully uninstalled albumentations-0.1.12\n",
            "Successfully installed albumentations-0.5.2 imgaug-0.4.0 opencv-python-headless-4.5.1.48\n"
          ],
          "name": "stdout"
        }
      ]
    },
    {
      "cell_type": "markdown",
      "metadata": {
        "id": "YeeJySLhcju4"
      },
      "source": [
        "# Define Data Loading, Saving Paths, and Constants"
      ]
    },
    {
      "cell_type": "code",
      "metadata": {
        "id": "x3gGWQc10PFz"
      },
      "source": [
        "cassava_dataset_dir_prefix = '/content/gdrive/MyDrive/kaggle-competition-datasets/cassava-leaf-disease-classification/'\n",
        "train_img_zip_path = cassava_dataset_dir_prefix + \"train_images.zip\"\n",
        "train_img_dir_path = '/content/train_images/'\n",
        "\n",
        "!rm -r new_train_imgs\n",
        "!mkdir new_train_imgs\n",
        "\n",
        "new_train_img_dir_path = '/content/new_train_images/'\n",
        "output_filename = 'newly_sampled_train'"
      ],
      "execution_count": null,
      "outputs": []
    },
    {
      "cell_type": "markdown",
      "metadata": {
        "id": "jjaACyH70fNZ"
      },
      "source": [
        "# Load Training Images From Drive to Colab"
      ]
    },
    {
      "cell_type": "code",
      "metadata": {
        "colab": {
          "base_uri": "https://localhost:8080/"
        },
        "id": "piC7jVzav-T9",
        "outputId": "7c5634c7-61ca-4aaf-9d7a-4257b57ceef1"
      },
      "source": [
        "drive.mount('/content/gdrive')\n",
        "\n",
        "if not os.path.isdir(train_img_dir_path):\n",
        "  with ZipFile(train_img_zip_path, 'r') as zip_f: \n",
        "    zip_f.extractall(path='/content') "
      ],
      "execution_count": null,
      "outputs": [
        {
          "output_type": "stream",
          "text": [
            "Drive already mounted at /content/gdrive; to attempt to forcibly remount, call drive.mount(\"/content/gdrive\", force_remount=True).\n"
          ],
          "name": "stdout"
        }
      ]
    },
    {
      "cell_type": "markdown",
      "metadata": {
        "id": "YtRS_TvK2H6S"
      },
      "source": [
        "# Undersampling"
      ]
    },
    {
      "cell_type": "code",
      "metadata": {
        "id": "pkvQ7vLqG1Yw"
      },
      "source": [
        "MAJORITY_CLASS_LABEL = 3\n",
        "UNDER_SAMPLED_RATIO = 0.5\n",
        "\n",
        "train_img_df = pd.read_csv(cassava_dataset_dir_prefix + 'train.csv')\n",
        "train_img_id = train_img_df['img_id'].to_numpy()\n",
        "train_img_label = train_img_df['label'].to_numpy()\n",
        "img_label_lookup = dict(zip(train_img_id, train_img_label))\n",
        "train_imgs = []\n",
        "\n",
        "def read_img_from_path(path):\n",
        "    im_bgr = cv2.imread(path)\n",
        "    im_rgb = im_bgr[:, :, ::-1].copy()\n",
        "    return im_rgb\n",
        "\n",
        "majority_sample_loc = np.where(train_img_label == MAJORITY_CLASS_LABEL)\n",
        "majority_sample_id = train_img_id[majority_sample_loc]\n",
        "majority_sample_label = train_img_label[majority_sample_loc]\n",
        "\n",
        "num_majority_sample = len(majority_sample_id)\n",
        "undersampled_indices = np.random.choice(np.arange(num_majority_sample), int(num_majority_sample * UNDER_SAMPLED_RATIO), replace=False)\n",
        "under_sampled_img_id = majority_sample_id[undersampled_indices]\n",
        "under_sampled_img_label = majority_sample_label[undersampled_indices]\n",
        "\n",
        "undersampled_img_dict = {\n",
        "    'img_id' : under_sampled_id,\n",
        "    'label' : under_sampled_label\n",
        "}\n",
        "\n",
        "under_sampled_train_df = pd.DataFrame(undersampled_img_dict)\n",
        "\n",
        "for img_id in undersampled_img_dict['img_id']:\n",
        "  img_write_path = new_train_img_dir_path + img_id\n",
        "  cv2.imwrite(img_write_path, read_img_from_path(train_img_dir_path + img_id))"
      ],
      "execution_count": null,
      "outputs": []
    },
    {
      "cell_type": "markdown",
      "metadata": {
        "id": "GcAGI-k846ki"
      },
      "source": [
        "# Oversampling"
      ]
    },
    {
      "cell_type": "code",
      "metadata": {
        "id": "qY4iZRSVG4r2"
      },
      "source": [
        "RANDOM_NUMBER_UPPER_LIMIT = 10 ** 9\n",
        "\n",
        "tranforms = Compose(\n",
        "    [\n",
        "     CoarseDropout(p = 0.5, max_holes = 12, max_height = 30, max_width = 30),\n",
        "     GridDistortion(p = 0.5), \n",
        "     ShiftScaleRotate(p = 0.8),\n",
        "     ShiftScaleRotate(scale_limit = [0.1, 0.3], p = 0.6),\n",
        "     VerticalFlip(p = 0.7),\n",
        "     HorizontalFlip(p = 0.7),\n",
        "     RandomBrightnessContrast(p = 0.8),\n",
        "     HueSaturationValue(hue_shift_limit = 30, sat_shift_limit = 40, val_shift_limit = 30, p = 0.8)\n",
        "    ]\n",
        ")\n",
        "\n",
        "def oversample(minority_set, over_sample_ratio):\n",
        "  over_sampled_set = []\n",
        "  for img in minority_set:\n",
        "    for i in range(over_sample_ratio):\n",
        "      new_img = tranforms(img=img)['img']  \n",
        "      over_sampled_set.append(new_img)\n",
        "  return over_sampled_set\n",
        "\n",
        "def append_oversampled_set_to_dataset(over_sampled_set, label, undersampled_df):\n",
        "  new_ids = []\n",
        "  labels = [label] * len(over_sampled_set)\n",
        "\n",
        "  for img in over_sampled_set: \n",
        "    # get new id for the newly sampled image\n",
        "    id = random.randint(0, RANDOM_NUMBER_UPPER_LIMIT)\n",
        "    new_id = str(id) + '.jpg'\n",
        "    # if the id is already being taken, get a new one and check, until there\n",
        "    # is no collision in id\n",
        "    while new_name in img_label_lookup:\n",
        "      id = random.randint(0, RANDOM_NUMBER_UPPER_LIMIT)\n",
        "      new_id = str(id) + '.jpg'\n",
        "\n",
        "    new_ids.append(new_id)\n",
        "    img_label_lookup[new_id] = label\n",
        "    cv2.imwrite(new_train_img_dir_path + new_id, img)\n",
        "    \n",
        "  oversampled_img_dict = {\n",
        "    'img_id' : new_ids,\n",
        "    'label' : labels\n",
        "  }\n",
        "  new_sampled_df = pd.DataFrame(oversampled_img_dict)\n",
        "  # concatenate the df of newly sampled images to the df of undersampled images\n",
        "  undersampled_df = undersampled_df.append(new_sampled_df)\n",
        "  return undersampled_df"
      ],
      "execution_count": null,
      "outputs": []
    },
    {
      "cell_type": "code",
      "metadata": {
        "id": "g_4VIbshuLNG",
        "colab": {
          "base_uri": "https://localhost:8080/",
          "height": 66,
          "referenced_widgets": [
            "f4538236fe5f49b1bc39e170eddf6897",
            "35c9a97a46bb49cc9e1b78c571ac9d9a",
            "6385aa7462964df0972a80f198543cfe",
            "78c3dd8e2738466c914a8cb16ecc92b6",
            "818eef95eb41485ca0977f50447ce7bb",
            "374d644681054512b2b9ba710a9cf3c4",
            "1dd19de727b546f1bc2c38c67d22e90c",
            "c7b74a42d2934187a3246833a804f004"
          ]
        },
        "outputId": "9161ee8e-bc40-4e2e-aead-3b28ef028e2c"
      },
      "source": [
        "for img_id, label in tqdm(zip(train_img_id, train_img_label)):\n",
        "  if label != MAJORITY_CLASS_LABEL:\n",
        "    img = read_img_from_path(train_img_dir_path + img_id)\n",
        "    over_sampled_set = oversample([img], 4 if label == 0 else 2)\n",
        "    under_sampled_train_df = append_oversampled_set_to_dataset(over_sampled_set, label, under_sampled_train_df)"
      ],
      "execution_count": null,
      "outputs": [
        {
          "output_type": "display_data",
          "data": {
            "application/vnd.jupyter.widget-view+json": {
              "model_id": "f4538236fe5f49b1bc39e170eddf6897",
              "version_minor": 0,
              "version_major": 2
            },
            "text/plain": [
              "HBox(children=(FloatProgress(value=1.0, bar_style='info', max=1.0), HTML(value='')))"
            ]
          },
          "metadata": {
            "tags": []
          }
        },
        {
          "output_type": "stream",
          "text": [
            "\n"
          ],
          "name": "stdout"
        }
      ]
    },
    {
      "cell_type": "code",
      "metadata": {
        "colab": {
          "base_uri": "https://localhost:8080/"
        },
        "id": "7Ls_G-t9MihE",
        "outputId": "ac31994e-79b1-46fa-c319-bd6861925715"
      },
      "source": [
        "!ls /content/new_train_images | wc -l"
      ],
      "execution_count": null,
      "outputs": [
        {
          "output_type": "stream",
          "text": [
            "25231\n"
          ],
          "name": "stdout"
        }
      ]
    },
    {
      "cell_type": "markdown",
      "metadata": {
        "id": "i4FF_35g6LhZ"
      },
      "source": [
        "# Copy New Dataset Back to Drive to Download"
      ]
    },
    {
      "cell_type": "code",
      "metadata": {
        "id": "b7aW_UZR6YSs",
        "colab": {
          "base_uri": "https://localhost:8080/",
          "height": 52
        },
        "outputId": "1c6a8dd7-5ad3-4cd3-9ad8-919bb29f9fb1"
      },
      "source": [
        "FORMAT = 'zip'\n",
        "shutil.make_archive(output_filename, FORMAT, new_train_img_dir_path)\n",
        "under_sampled_train_df = under_sampled_train_df.sample(frac = 1).reset_index(drop=True)\n",
        "under_sampled_train_df.to_csv('new_train.csv')\n",
        "\n",
        "!cp /content/newly_sampled_train.zip /content/gdrive/MyDrive/kaggle-competition-datasets/cassava-leaf-disease-classification/"
      ],
      "execution_count": null,
      "outputs": [
        {
          "output_type": "stream",
          "text": [
            "/content/gdrive/MyDrive/kaggle-competition-datasets/cassava-leaf-disease-classification/\n"
          ],
          "name": "stdout"
        },
        {
          "output_type": "execute_result",
          "data": {
            "application/vnd.google.colaboratory.intrinsic+json": {
              "type": "string"
            },
            "text/plain": [
              "'/content/newly_sampled_train.zip'"
            ]
          },
          "metadata": {
            "tags": []
          },
          "execution_count": 17
        }
      ]
    }
  ]
}